{
 "cells": [
  {
   "cell_type": "markdown",
   "id": "965262de-19d0-4579-890b-d137d87b4269",
   "metadata": {},
   "source": [
    "# Assignment-1"
   ]
  },
  {
   "cell_type": "markdown",
   "id": "cb84df57-e7b1-4e42-a038-9e423ef818f3",
   "metadata": {},
   "source": [
    "### Q1. Create one variable containing following type of data:\n",
    "\n",
    "* (i) string\n",
    "* (ii) list\n",
    "* (iii) float\n",
    "* (iv) tuple"
   ]
  },
  {
   "cell_type": "code",
   "execution_count": 3,
   "id": "c2c046c2-e0b7-4723-9fd7-a5b3a701ed25",
   "metadata": {},
   "outputs": [],
   "source": [
    "string = \"string\"\n",
    "list_   = [1,2,3]\n",
    "float_  =  9.99\n",
    "tuple_  = (1,2,3)"
   ]
  },
  {
   "cell_type": "markdown",
   "id": "a6e6c5bf-0a2f-4990-bda6-0b4e4e90198c",
   "metadata": {},
   "source": [
    "### Q2. Given are some following variables containing data:\n",
    "* ((i) var1 = ‘ ‘\n",
    "* ((ii) var2 = ‘[ DS , ML , Python]’\n",
    "* ((iii) var3 = [ ‘DS’ , ’ML’ , ‘Python’ ]\n",
    "* ((iv) var4 = 1.\n",
    "\n",
    " What will be the data type of the above given variable."
   ]
  },
  {
   "cell_type": "code",
   "execution_count": 9,
   "id": "b40d8d50-1749-4ac7-a53a-4aa35ff342b2",
   "metadata": {},
   "outputs": [
    {
     "name": "stdout",
     "output_type": "stream",
     "text": [
      "<class 'str'>\n",
      "<class 'str'>\n",
      "<class 'list'>\n",
      "<class 'int'>\n"
     ]
    }
   ],
   "source": [
    "var1 = ' ' \n",
    "var2 = '[ DS , ML , Python]'\n",
    "var3 = [ 'DS' , 'ML' , 'Python' ]\n",
    "var4 = 1\n",
    "\n",
    "print(type(var1))\n",
    "print(type(var2))\n",
    "print(type(var3))\n",
    "print(type(var4))"
   ]
  },
  {
   "cell_type": "markdown",
   "id": "d3836047-ceff-419e-bcca-820db43145b9",
   "metadata": {},
   "source": [
    "### Q3. Explain the use of the following operators using an example:\n",
    "* (i) /\n",
    "* (ii) %\n",
    "* (iii) //\n",
    "* (iv) **"
   ]
  },
  {
   "cell_type": "code",
   "execution_count": 16,
   "id": "59bcd74f-51a7-468d-bdc1-c9312f8dd373",
   "metadata": {},
   "outputs": [
    {
     "name": "stdout",
     "output_type": "stream",
     "text": [
      "Example of '/' operator:- 25/5 =  5.0\n",
      "Example of '%' operator:- 10%3 =  1\n",
      "Example of '//' operator:- 10//3 =  3\n",
      "Example of ' ** ' operator is:- 2**3 =  8\n"
     ]
    }
   ],
   "source": [
    "# (i) '/ ' operators is use for divison.\n",
    "result =  25/5\n",
    "print(\"Example of '/' operator:- 25/5 = \",result)\n",
    "\n",
    "# (ii) '%' operator is is called the modulus operator or remainder operator.\n",
    "remainder= 10%3\n",
    "\n",
    "print(\"Example of '%' operator:- 10%3 = \",remainder) \n",
    "\n",
    "#(iii)The // operator in Python is used for floor division. It performs integer division, which means it returns the result as an integer by rounding down the quotient to the nearest whole number\n",
    "results=10//3\n",
    "print(\"Example of '//' operator:- 10//3 = \" ,results)\n",
    "\n",
    "# The ** operator in Python is used for exponentiation.\n",
    "\n",
    "result1=2**3\n",
    "print(\"Example of ' ** ' operator is:- 2**3 = \",result1)\n",
    "\n"
   ]
  },
  {
   "cell_type": "markdown",
   "id": "df97334f-29f1-4495-9cbe-1ecd91f48653",
   "metadata": {},
   "source": [
    "### Q4. Create a list of length 10 of your choice containing multiple types of data. Using for loop print the element and its data type."
   ]
  },
  {
   "cell_type": "code",
   "execution_count": 18,
   "id": "77ba5342-ca6d-4d4e-ba33-650e4228ae86",
   "metadata": {},
   "outputs": [
    {
     "name": "stdout",
     "output_type": "stream",
     "text": [
      "10 <class 'int'>\n",
      "Hello <class 'str'>\n",
      "3.14 <class 'float'>\n",
      "True <class 'bool'>\n",
      "[1, 2, 3] <class 'list'>\n",
      "{'name': 'John'} <class 'dict'>\n",
      "None <class 'NoneType'>\n",
      "(4, 5, 6) <class 'tuple'>\n",
      "Python <class 'str'>\n",
      "False <class 'bool'>\n"
     ]
    }
   ],
   "source": [
    "my_list = [10, \"Hello\", 3.14, True, [1, 2, 3], {'name': 'John'}, None, (4, 5, 6), \"Python\", False]\n",
    "\n",
    "for element in my_list:\n",
    "    print(element ,type(element))"
   ]
  },
  {
   "cell_type": "markdown",
   "id": "aadbbcda-4c2a-42f5-8447-88c4e2bd0a76",
   "metadata": {},
   "source": [
    "### Q5. Using a while loop, verify if the number A is purely divisible by number B and if so then how many times it can be divisible."
   ]
  },
  {
   "cell_type": "code",
   "execution_count": 22,
   "id": "756df006-c8db-40fd-8baa-55994d58fd87",
   "metadata": {},
   "outputs": [
    {
     "name": "stdout",
     "output_type": "stream",
     "text": [
      "A is divisible by B 2 times.\n"
     ]
    }
   ],
   "source": [
    "A = 36\n",
    "B = 3\n",
    "count = 0\n",
    "\n",
    "while A % B == 0:\n",
    "    A = A // B\n",
    "    count += 1\n",
    "\n",
    "print(\"A is divisible by B\", count, \"times.\")\n"
   ]
  },
  {
   "cell_type": "markdown",
   "id": "7e78185d-ca4e-4da4-8c97-978619461c06",
   "metadata": {},
   "source": [
    "### Q6. Create a list containing 25 int type data. Using for loop and if-else condition print if the element is divisible by 3 or not."
   ]
  },
  {
   "cell_type": "code",
   "execution_count": 29,
   "id": "2042536c-1458-4e39-86d1-2dd629facae3",
   "metadata": {},
   "outputs": [
    {
     "name": "stdout",
     "output_type": "stream",
     "text": [
      " 12 is divisible by 3\n",
      " 25 is not divisible by 3\n",
      " 36 is divisible by 3\n",
      " 45 is divisible by 3\n",
      " 69 is divisible by 3\n",
      " 87 is divisible by 3\n",
      " 2 is not divisible by 3\n",
      " 3 is divisible by 3\n",
      " 65 is not divisible by 3\n",
      " 45 is divisible by 3\n",
      " 5 is not divisible by 3\n",
      " 25 is not divisible by 3\n",
      " 65 is not divisible by 3\n",
      " 47 is not divisible by 3\n",
      " 56 is not divisible by 3\n",
      " 29 is not divisible by 3\n",
      " 38 is not divisible by 3\n",
      " 16 is not divisible by 3\n",
      " 26 is not divisible by 3\n",
      " 287 is not divisible by 3\n",
      " 10 is not divisible by 3\n",
      " 9 is divisible by 3\n",
      " 8 is not divisible by 3\n",
      " 5 is not divisible by 3\n",
      " 3 is divisible by 3\n"
     ]
    }
   ],
   "source": [
    "int_list=[12,25,36,45,69,87,2,3,65,45,5,25,65,47,56,29,38,16,26,287,10,9,8,5,3]\n",
    "\n",
    "for i in int_list:\n",
    "    if i%3==0:\n",
    "        print(f' {i} is divisible by 3')\n",
    "              \n",
    "    else:\n",
    "              print(f' {i} is not divisible by 3')"
   ]
  },
  {
   "cell_type": "markdown",
   "id": "44215734-9e27-4ebc-8521-a26fcd688263",
   "metadata": {},
   "source": [
    "### Q7. What do you understand about mutable and immutable data types? Give examples for both showing this property.\n",
    "\n",
    "####  Mutable :- Mutable objects can be modified after they are created. Changes made to a mutable object directly affect its content without creating a new object.\n",
    "\n",
    "#### Immutable :- Immutable objects cannot be modified once they are created. Any operation that appears to modify an immutable object actually creates a new object. "
   ]
  },
  {
   "cell_type": "code",
   "execution_count": 31,
   "id": "4a73d4b5-d7c0-45dd-b50d-07f6a8109d9f",
   "metadata": {},
   "outputs": [
    {
     "name": "stdout",
     "output_type": "stream",
     "text": [
      "[1, 2, 4]\n"
     ]
    }
   ],
   "source": [
    "# Example of Mutable data type\n",
    "my_lis= [1,2,3]\n",
    "my_lis[2]=4\n",
    "print(my_lis)"
   ]
  },
  {
   "cell_type": "code",
   "execution_count": 32,
   "id": "0ed4567d-6bdb-49ad-83b6-df2dc59ccef5",
   "metadata": {},
   "outputs": [
    {
     "ename": "TypeError",
     "evalue": "'tuple' object does not support item assignment",
     "output_type": "error",
     "traceback": [
      "\u001b[0;31m---------------------------------------------------------------------------\u001b[0m",
      "\u001b[0;31mTypeError\u001b[0m                                 Traceback (most recent call last)",
      "Cell \u001b[0;32mIn [32], line 3\u001b[0m\n\u001b[1;32m      1\u001b[0m \u001b[38;5;66;03m# Exammple of Immutable\u001b[39;00m\n\u001b[1;32m      2\u001b[0m my_tuple\u001b[38;5;241m=\u001b[39m(\u001b[38;5;241m1\u001b[39m,\u001b[38;5;241m2\u001b[39m,\u001b[38;5;241m3\u001b[39m)\n\u001b[0;32m----> 3\u001b[0m \u001b[43mmy_tuple\u001b[49m\u001b[43m[\u001b[49m\u001b[38;5;241;43m2\u001b[39;49m\u001b[43m]\u001b[49m\u001b[38;5;241m=\u001b[39m\u001b[38;5;241m4\u001b[39m\n\u001b[1;32m      4\u001b[0m \u001b[38;5;28mprint\u001b[39m(my_tuple)\n",
      "\u001b[0;31mTypeError\u001b[0m: 'tuple' object does not support item assignment"
     ]
    }
   ],
   "source": [
    "# Exammple of Immutable\n",
    "my_tuple=(1,2,3)\n",
    "my_tuple[2]=4\n",
    "print(my_tuple)"
   ]
  },
  {
   "cell_type": "markdown",
   "id": "3d49fc2e-2773-4ea8-89d4-1129c6e9e625",
   "metadata": {},
   "source": [
    "# Thank you"
   ]
  },
  {
   "cell_type": "code",
   "execution_count": null,
   "id": "511dbe8a-5c56-4daa-8fbf-bd923983192a",
   "metadata": {},
   "outputs": [],
   "source": []
  }
 ],
 "metadata": {
  "kernelspec": {
   "display_name": "Python 3 (ipykernel)",
   "language": "python",
   "name": "python3"
  },
  "language_info": {
   "codemirror_mode": {
    "name": "ipython",
    "version": 3
   },
   "file_extension": ".py",
   "mimetype": "text/x-python",
   "name": "python",
   "nbconvert_exporter": "python",
   "pygments_lexer": "ipython3",
   "version": "3.9.7"
  }
 },
 "nbformat": 4,
 "nbformat_minor": 5
}
