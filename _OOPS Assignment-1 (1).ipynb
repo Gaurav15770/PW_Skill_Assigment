{
 "cells": [
  {
   "cell_type": "markdown",
   "id": "558861fc-ecee-40b2-8c3a-241b672dc2c8",
   "metadata": {},
   "source": [
    "### Q1. Explain Class and Object with respect to Object-Oriented Programming. Give a suitable example.\n",
    "\n",
    "#### Ans- A class is a blueprint or a template for creating objects. It defines the attributes (data) and behaviors (methods) that objects of the class will possess. A class serves as a blueprint for creating multiple objects with similar characteristics.\n",
    "\n",
    "#### An object, on the other hand, is an instance of a class. It is a real-world entity that has specific attributes and behaviors defined by its class. Each object created from a class has its own set of data and can perform actions defined by the class's methods."
   ]
  },
  {
   "cell_type": "code",
   "execution_count": 1,
   "id": "686c6b58-4f02-4024-a235-0c53ae029419",
   "metadata": {},
   "outputs": [
    {
     "name": "stdout",
     "output_type": "stream",
     "text": [
      "Toyota\n",
      "Civic\n",
      "The Toyota Fortuner's engine is starting.\n",
      "The Honda Civic is driving.\n"
     ]
    }
   ],
   "source": [
    "class Car:\n",
    "    def __init__(self, make, model, year):\n",
    "        self.make = make\n",
    "        self.model = model\n",
    "        self.year = year\n",
    "    \n",
    "    def start_engine(self):\n",
    "        print(f\"The {self.make} {self.model}'s engine is starting.\")\n",
    "\n",
    "    def drive(self):\n",
    "        print(f\"The {self.make} {self.model} is driving.\")\n",
    "\n",
    "\n",
    "\n",
    "car1 = Car(\"Toyota\", \"Fortuner\", 2022)\n",
    "car2 = Car(\"Honda\", \"Civic\", 2021)\n",
    "\n",
    "\n",
    "print(car1.make)  \n",
    "print(car2.model)  \n",
    "\n",
    "car1.start_engine()  \n",
    "car2.drive() \n"
   ]
  },
  {
   "cell_type": "markdown",
   "id": "fdeeb94e-eb78-497e-a592-6e71d5ff8457",
   "metadata": {},
   "source": [
    "### Q2. Name the four pillars of OOPs.\n",
    "\n",
    "#### The four pillars of object-oriented programming (OOP) are:\n",
    "\n",
    "* Encapsulation: Encapsulation is the practice of bundling related data (attributes) and behavior (methods) into objects. It allows the internal workings of an object to be hidden from the outside, and only the necessary interface is exposed to interact with the object. Encapsulation helps in achieving data abstraction, data protection, and modular programming.\n",
    "\n",
    "* Inheritance: Inheritance is the mechanism that allows a class (subclass) to inherit properties (attributes and methods) from another class (superclass). The subclass inherits and can extend or modify the behavior of the superclass. It promotes code reuse, facilitates the creation of hierarchical relationships, and supports the concept of specialization and generalization.\n",
    "\n",
    "* Polymorphism: Polymorphism refers to the ability of an object to take on different forms or have multiple behaviors. It allows objects of different classes to be treated as objects of a common superclass. Polymorphism enables code to work with objects at a more abstract level, allowing flexibility and extensibility. It is often achieved through method overriding and method overloading.\n",
    "\n",
    "* Abstraction: Abstraction is the process of simplifying complex systems by representing the essential features and hiding unnecessary details. It focuses on defining the essential characteristics of an object or system while ignoring or abstracting away the implementation details. Abstraction allows for managing complexity, enhancing modularity, and providing a clear interface for interaction."
   ]
  },
  {
   "cell_type": "markdown",
   "id": "79aa4cd4-c79a-49a9-8abc-6b1be99bf89e",
   "metadata": {},
   "source": [
    "### Q3. Explain why the __init__() function is used. Give a suitable example.\n",
    "\n",
    "#### Ans- The __init__() function is a special method in Python classes that is automatically called when an object is created from a class. It is used to initialize or set up the initial state of the object by assigning values to its attributes.\n",
    "\n",
    "#### The primary purpose of the __init__() method is to ensure that essential attributes of an object are properly initialized when it is created. It allows you to provide default values or accept specific values as arguments during object creation."
   ]
  },
  {
   "cell_type": "code",
   "execution_count": 3,
   "id": "a346cc58-6f45-40b5-919b-3827f0ead565",
   "metadata": {},
   "outputs": [
    {
     "name": "stdout",
     "output_type": "stream",
     "text": [
      "Hi, my name is Gaurav and I am 23 years old.\n"
     ]
    }
   ],
   "source": [
    "class Person:\n",
    "    def __init__(self, name, age):\n",
    "        self.name = name\n",
    "        self.age = age\n",
    "\n",
    "    def introduce(self):\n",
    "        print(f\"Hi, my name is {self.name} and I am {self.age} years old.\")\n",
    "\n",
    "person = Person(\"Gaurav\", 23)\n",
    "\n",
    "\n",
    "person.introduce()  \n"
   ]
  },
  {
   "cell_type": "markdown",
   "id": "b7a3e32d-0a15-4aa2-8081-9debf5b8cd95",
   "metadata": {},
   "source": [
    "### Q4. Why self is used in OOPs?\n",
    "\n",
    "#### Ans- In object-oriented programming (OOP), self is a conventionally used parameter name that refers to the instance of a class. It represents the current object being accessed or manipulated. The purpose of using self is to allow access to the attributes and methods of the object within the class.\n",
    "\n",
    " #### Here are the reasons why self is used in OOP:\n",
    "\n",
    "* Instance Attribute Access: self allows access to the instance attributes of an object. It provides a reference to the specific instance of the class and allows you to access and manipulate the object's attributes and methods. By using self, you can differentiate between instance attributes and local variables within the class.\n",
    "\n",
    "* Method Invocation: self is used to invoke methods within a class. It ensures that the method is called on the specific object (instance) that the method belongs to. When a method is called on an object, self implicitly passes the object's reference as the first argument, allowing the method to access and manipulate the object's attributes.\n",
    "\n",
    "* Differentiating Class and Instance Variables: self helps in distinguishing between class variables and instance variables. Class variables are shared among all instances of a class, while instance variables have separate values for each instance. By using self to access instance variables, you can ensure that the correct instance's variable is accessed and modified."
   ]
  },
  {
   "cell_type": "markdown",
   "id": "ae8d5765-f23f-452d-96c9-bd9135f7dcc7",
   "metadata": {},
   "source": [
    "### Q5. What is inheritance? Give an example for each type of inheritance.\n",
    "\n",
    "#### Ans- Inheritance is a fundamental concept in object-oriented programming (OOP) that allows one class to inherit properties and behaviors from another class. It establishes a hierarchical relationship between classes, enabling code reuse, modularity, and the creation of specialized classes.\n",
    "\n",
    "#### There are several types of inheritance, including:\n",
    "\n",
    "* Single Inheritance: Single inheritance is a type of inheritance where a subclass inherits properties and behaviors from a single superclass. It forms a simple parent-child relationship between two classes.\n",
    "\n",
    "* Multiple Inheritance: Multiple inheritance is a type of inheritance where a subclass inherits properties and behaviors from multiple superclasses. It allows a class to inherit from more than one parent class, combining their attributes and methods."
   ]
  },
  {
   "cell_type": "code",
   "execution_count": 4,
   "id": "e161e9b2-f533-4d81-a329-5308954f55e7",
   "metadata": {},
   "outputs": [
    {
     "name": "stdout",
     "output_type": "stream",
     "text": [
      "Flying.\n",
      "Swimming.\n"
     ]
    }
   ],
   "source": [
    "class Flyable:\n",
    "    def fly(self):\n",
    "        print(\"Flying.\")\n",
    "\n",
    "class Swimmable:\n",
    "    def swim(self):\n",
    "        print(\"Swimming.\")\n",
    "\n",
    "class Bird(Flyable, Swimmable):\n",
    "    pass\n",
    "\n",
    "bird = Bird()\n",
    "bird.fly()  \n",
    "bird.swim()  \n"
   ]
  },
  {
   "cell_type": "code",
   "execution_count": null,
   "id": "226f8e9b-f649-42ae-bd93-29bfd77c9733",
   "metadata": {},
   "outputs": [],
   "source": []
  }
 ],
 "metadata": {
  "kernelspec": {
   "display_name": "Python 3 (ipykernel)",
   "language": "python",
   "name": "python3"
  },
  "language_info": {
   "codemirror_mode": {
    "name": "ipython",
    "version": 3
   },
   "file_extension": ".py",
   "mimetype": "text/x-python",
   "name": "python",
   "nbconvert_exporter": "python",
   "pygments_lexer": "ipython3",
   "version": "3.10.6"
  }
 },
 "nbformat": 4,
 "nbformat_minor": 5
}
