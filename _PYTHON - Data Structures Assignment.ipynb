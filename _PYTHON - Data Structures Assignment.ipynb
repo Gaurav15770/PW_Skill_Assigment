{
 "cells": [
  {
   "cell_type": "markdown",
   "id": "09cd912a-e7c3-4097-bdbe-2de7f9a11734",
   "metadata": {},
   "source": [
    "### Q1. How do you comment code in Python? What are the different types of comments?\n",
    "\n",
    "#### Ans- we can comment code in python using \"#\" or \"\"\"  \"\"\"\". There are two type of comment in python \n",
    " * single line comment using \"#\" \n",
    " * Multiline comment using  Using Triple Quotes '''   ''''."
   ]
  },
  {
   "cell_type": "markdown",
   "id": "6f82ac0a-31db-4a06-a6a9-3f8fe11d19d9",
   "metadata": {},
   "source": [
    "### Q2. What are variables in Python? How do you declare and assign values to variables?\n",
    "\n",
    "#### Ans- Variable is a name that is use to refer memory location. Variable is also known as identifer and use to hold value. To declare and assign values to variable you can follow some step:-\n",
    "\n",
    "* Variable Declaretion - Declare variable by give it name.We can not declare explicity variable in python. when we assgin a value to the variable, that variable is declared automatically.\n",
    "\n",
    "* Variable Assignment - Assign a value in variable by using assignment operater(\"=\"). \n",
    "\n",
    "**** Example\n",
    "\n",
    "\n",
    "\n"
   ]
  },
  {
   "cell_type": "code",
   "execution_count": 10,
   "id": "2cc00601-f810-4b1e-b0a6-255da5e403bb",
   "metadata": {},
   "outputs": [
    {
     "name": "stdout",
     "output_type": "stream",
     "text": [
      "gaurav\n",
      "18\n",
      "True\n"
     ]
    }
   ],
   "source": [
    "name = 'gaurav' \n",
    "age = 18\n",
    "is_student = True\n",
    "\n",
    "print(name)\n",
    "print(age)\n",
    "print(is_student)"
   ]
  },
  {
   "cell_type": "markdown",
   "id": "c2114feb-4c32-49b0-bf3b-d08de1be9659",
   "metadata": {},
   "source": [
    "#### Q3. How do you convert one data type to another in Python?\n",
    "\n",
    "#### Ans- We can ccnvert one datatype to anthore using type convertion and type casting. Example \n",
    "#### convet string into int\n",
    "     a= \"20\"\n",
    "     a_convert =int(a) \n"
   ]
  },
  {
   "cell_type": "markdown",
   "id": "c22cbe46-a923-4147-ab8d-58c376d65a97",
   "metadata": {},
   "source": [
    "### Q4. How do you write and execute a Python script from the command line?\n",
    "\n",
    "#### Ans- To write and execute a Pyhton scripte from thr command line follow some steps-\n",
    "\n",
    "* Open a Text Editor: Open a text editor of your choice, such as Notepad, Sublime Text, or Visual Studio Code.\n",
    "* Write Python Code: Write your Python code in the text editor. For example, let's create a simple script that prints \"Hello, World!\":\n",
    "\n",
    "* Save the File: Save the file with a .py extension, such as hello_world.py. Choose a directory where you want to save your Python script.\n",
    "\n",
    "* Open Command Prompt or Terminal: Open the command prompt on Windows or terminal on macOS/Linux.\n",
    "\n",
    "* Navigate to Script Directory: Use the cd command to navigate to the directory where you saved your Python script. For example, if the script is saved in the Documents directory, use:\n",
    "\n",
    "* Execute the Script: In the command prompt or terminal, type python followed by the name of your Python script file. Press Enter to execute the script"
   ]
  },
  {
   "cell_type": "markdown",
   "id": "c029afff-7c3f-4b7f-88cd-0290b8b5e2a6",
   "metadata": {},
   "source": [
    "### Q5. Given a list my_list = [1, 2, 3, 4, 5], write the code to slice the list and obtain the sub-list [2, 3]."
   ]
  },
  {
   "cell_type": "code",
   "execution_count": 13,
   "id": "cec4fca0-f764-441f-a5b8-60d4d379077a",
   "metadata": {},
   "outputs": [
    {
     "name": "stdout",
     "output_type": "stream",
     "text": [
      "sub-list [2, 3]\n"
     ]
    }
   ],
   "source": [
    "my_list = [1, 2, 3, 4, 5]\n",
    "sub_list=my_list[1:3]\n",
    "print(\"sub-list\",sub_list)"
   ]
  },
  {
   "cell_type": "markdown",
   "id": "e115a617-bdd4-418c-b0e5-c600e8cccd27",
   "metadata": {},
   "source": [
    "### Q6. What is a complex number in mathematics, and how is it represented in Python?\n",
    "\n",
    "#### Ans- Complex number is created by to real numbers. It can be written in form (x+yi) where x and y is real number and i will be imaginary number which is square  root of -1."
   ]
  },
  {
   "cell_type": "markdown",
   "id": "ffd1839e-fd26-4f7d-8d8b-adea379d95a1",
   "metadata": {},
   "source": [
    "### Q7. What is the correct way to declare a variable named age and assign the value 25 to it?\n",
    "\n",
    "#### Ans- The correct way to declare a variable name age is -   \n",
    "     \n",
    "     age = 25 "
   ]
  },
  {
   "cell_type": "markdown",
   "id": "81100b9f-9d27-42a6-b101-1a5ee317ad28",
   "metadata": {},
   "source": [
    "### Q8. Declare a variable named price and assign the value 9.99 to it. What data type does this variable\n",
    "belong to?"
   ]
  },
  {
   "cell_type": "code",
   "execution_count": 14,
   "id": "c610ef5e-6475-4410-9dc5-de395f2f2539",
   "metadata": {},
   "outputs": [
    {
     "name": "stdout",
     "output_type": "stream",
     "text": [
      "<class 'float'>\n"
     ]
    }
   ],
   "source": [
    "price = 9.99\n",
    "\n",
    "print(type(price))"
   ]
  },
  {
   "cell_type": "markdown",
   "id": "5442d6ef-18aa-4551-a221-969646497b52",
   "metadata": {},
   "source": [
    "### Q9. Create a variable named name and assign your full name to it as a string. How would you print the value of this variable?"
   ]
  },
  {
   "cell_type": "code",
   "execution_count": 15,
   "id": "b17f27eb-fb91-4ef4-b086-f2f48823d8c9",
   "metadata": {},
   "outputs": [
    {
     "name": "stdout",
     "output_type": "stream",
     "text": [
      "gaurav nama\n"
     ]
    }
   ],
   "source": [
    "name = \"gaurav nama\"\n",
    "print(name)"
   ]
  },
  {
   "cell_type": "markdown",
   "id": "65fd7a50-dbf7-4ea9-a92e-5de97b53c78a",
   "metadata": {},
   "source": [
    "### Q10. Given the string \"Hello, World!\", extract the substring \"World\"."
   ]
  },
  {
   "cell_type": "code",
   "execution_count": 16,
   "id": "022356b2-2391-4271-8224-ef5c0dadee80",
   "metadata": {},
   "outputs": [
    {
     "name": "stdout",
     "output_type": "stream",
     "text": [
      "World\n"
     ]
    }
   ],
   "source": [
    "string = \"Hello, World!\"\n",
    "substring = string[7:12]\n",
    "print(substring)"
   ]
  },
  {
   "cell_type": "markdown",
   "id": "fefc2748-94b2-40b0-8396-21d496e24b0c",
   "metadata": {},
   "source": [
    "### Q11. Create a variable named \"is_student\" and assign it a boolean value indicating whether you are currently a student or not."
   ]
  },
  {
   "cell_type": "code",
   "execution_count": null,
   "id": "0bb79275-3570-4e2c-8e2d-935a15623515",
   "metadata": {},
   "outputs": [],
   "source": [
    "is_student=True\n",
    "print("
   ]
  }
 ],
 "metadata": {
  "kernelspec": {
   "display_name": "Python 3 (ipykernel)",
   "language": "python",
   "name": "python3"
  },
  "language_info": {
   "codemirror_mode": {
    "name": "ipython",
    "version": 3
   },
   "file_extension": ".py",
   "mimetype": "text/x-python",
   "name": "python",
   "nbconvert_exporter": "python",
   "pygments_lexer": "ipython3",
   "version": "3.10.6"
  }
 },
 "nbformat": 4,
 "nbformat_minor": 5
}
