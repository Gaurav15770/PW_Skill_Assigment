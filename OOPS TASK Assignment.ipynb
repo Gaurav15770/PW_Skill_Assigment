{
 "cells": [
  {
   "cell_type": "markdown",
   "id": "58fd83a6-5113-481f-8fea-cfb3884bf89f",
   "metadata": {},
   "source": [
    "### Q1, Create a vehicle class with an init method having instance variables as name_of_vehicle, max_speed and average_of_vehicle."
   ]
  },
  {
   "cell_type": "markdown",
   "id": "7f860d96-9c9f-480c-8121-c32598fbdc51",
   "metadata": {},
   "source": [
    "class Vehicle:\n",
    "    def __init__(self, name_of_vehicle, max_speed, average_of_vehicle):\n",
    "        self.name_of_vehicle = name_of_vehicle\n",
    "        self.max_speed = max_speed\n",
    "        self.average_of_vehicle = average_of_vehicle\n",
    "\n",
    "    def get_name(self):\n",
    "        return self.name_of_vehicle"
   ]
  },
  {
   "cell_type": "markdown",
   "id": "aaeb1121-6e13-4997-b41a-4c4fb2cfe46e",
   "metadata": {},
   "source": [
    "### Q2. Create a child class car from the vehicle class created in Que 1, which will inherit the vehicle class. Create a method named seating_capacity which takes capacity as an argument and returns the name of the vehicle and its seating capacity."
   ]
  },
  {
   "cell_type": "code",
   "execution_count": 28,
   "id": "377fcb79-ed71-4c4d-bf30-e982232e92a6",
   "metadata": {},
   "outputs": [
    {
     "name": "stdout",
     "output_type": "stream",
     "text": [
      "The Maruti has a seating capacity of 5.\n"
     ]
    }
   ],
   "source": [
    "class Car(Vehicle):\n",
    "    def seating_capacity(self, capacity):\n",
    "        return f\"The {self.get_name()} has a seating capacity of {capacity}.\"\n",
    "    \n",
    "my_car=Car('Maruti',120,60)\n",
    "print(my_car.seating_capacity(5))\n"
   ]
  },
  {
   "cell_type": "markdown",
   "id": "58e758d6-4c49-4702-9212-978daa8c40ca",
   "metadata": {},
   "source": [
    "### Q3. What is multiple inheritance? Write a python code to demonstrate multiple inheritance.\n",
    "\n",
    "#### Ans- Multiple inheritance is feature where a class inherit attributes and methods from multiple parents class."
   ]
  },
  {
   "cell_type": "code",
   "execution_count": 33,
   "id": "589e3922-7062-438b-a595-b3db692c8af4",
   "metadata": {},
   "outputs": [
    {
     "name": "stdout",
     "output_type": "stream",
     "text": [
      "Parrot is eating.\n",
      "Parrot is Flyable\n"
     ]
    }
   ],
   "source": [
    "class Animal:\n",
    "    def __init__(self,name):\n",
    "         self.name=name\n",
    "            \n",
    "    def eat(self):\n",
    "        print( f\"{self.name} is eating.\")\n",
    "        \n",
    "class Flyable:\n",
    "    def Flyable(self):\n",
    "        print(f\"{self.name} is Flyable\")\n",
    "        \n",
    "class Brid(Animal,Flyable):\n",
    "    def __init__(self,name):\n",
    "        super().__init__(name)\n",
    "parrot=Brid(\"Parrot\")    \n",
    "parrot.eat()\n",
    "parrot.Flyable()"
   ]
  },
  {
   "cell_type": "markdown",
   "id": "f223014c-cfda-4bf5-92bd-c2bfb0ffb154",
   "metadata": {},
   "source": [
    "### Q4. What are getter and setter in python? Create a class and create a getter and a setter method in this class.\n",
    "\n",
    "#### Ans- getter and setter methods are used to control access to class attributes. They provide a way to retrieve and modify the values of private or protected attributes of a class, encapsulating them within methods."
   ]
  },
  {
   "cell_type": "code",
   "execution_count": 35,
   "id": "d668dc5c-5b07-4ab0-90b8-a714c86ca77d",
   "metadata": {},
   "outputs": [
    {
     "name": "stdout",
     "output_type": "stream",
     "text": [
      "gaurav\n",
      "rajesh\n"
     ]
    }
   ],
   "source": [
    "class Person:\n",
    "    def __init__(self, name):\n",
    "        self._name = name\n",
    "\n",
    "    def get_name(self):\n",
    "        return self._name\n",
    "\n",
    "    def set_name(self, name):\n",
    "        self._name = name\n",
    "\n",
    "\n",
    "\n",
    "person = Person(\"gaurav\")\n",
    "\n",
    "print(person.get_name())  \n",
    "\n",
    "person.set_name(\"rajesh\")\n",
    "\n",
    "\n",
    "print(person.get_name())  "
   ]
  },
  {
   "cell_type": "markdown",
   "id": "1b621fbc-0683-45f7-a345-72a478a71e13",
   "metadata": {},
   "source": [
    "### Q5.What is method overriding in python? Write a python code to demonstrate method overriding.\n",
    "\n",
    "#### Ans-Method overriding is a concept in object-oriented programming where a subclass provides a different implementation of a method that is already defined in its superclass. When a method is overridden, the subclass method takes precedence over the superclass method with the same name."
   ]
  },
  {
   "cell_type": "code",
   "execution_count": 36,
   "id": "7f925130-5a78-4faa-b056-9692795af47e",
   "metadata": {},
   "outputs": [
    {
     "name": "stdout",
     "output_type": "stream",
     "text": [
      "Animal makes a sound.\n",
      "Cat meows.\n"
     ]
    }
   ],
   "source": [
    "class Animal:\n",
    "    def sound(self):\n",
    "        print(\"Animal makes a sound.\")\n",
    "\n",
    "\n",
    "class Cat(Animal):\n",
    "    def sound(self):\n",
    "        print(\"Cat meows.\")\n",
    "\n",
    "\n",
    "\n",
    "animal = Animal()\n",
    "cat = Cat()\n",
    "\n",
    "\n",
    "animal.sound()  \n",
    "cat.sound()  \n"
   ]
  },
  {
   "cell_type": "code",
   "execution_count": null,
   "id": "abe80a1b-e5a6-488e-a665-5ee1b1b13fa3",
   "metadata": {},
   "outputs": [],
   "source": []
  }
 ],
 "metadata": {
  "kernelspec": {
   "display_name": "Python 3 (ipykernel)",
   "language": "python",
   "name": "python3"
  },
  "language_info": {
   "codemirror_mode": {
    "name": "ipython",
    "version": 3
   },
   "file_extension": ".py",
   "mimetype": "text/x-python",
   "name": "python",
   "nbconvert_exporter": "python",
   "pygments_lexer": "ipython3",
   "version": "3.10.6"
  }
 },
 "nbformat": 4,
 "nbformat_minor": 5
}
