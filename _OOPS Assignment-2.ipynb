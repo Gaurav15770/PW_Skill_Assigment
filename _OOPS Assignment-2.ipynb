{
 "cells": [
  {
   "cell_type": "markdown",
   "id": "8065ed52-0870-42d6-9309-9d6a8371cf14",
   "metadata": {},
   "source": [
    "### Q1. What is Abstraction in OOps? Explain with an example.\n",
    "\n",
    "#### Ans- Abstraction in object-oriented programming (OOP) is a concept that focuses on providing a simplified and generalized view of objects and their essential features. It involves representing complex real-world entities as classes and hiding unnecessary details, allowing users to interact with objects at a higher level of abstraction."
   ]
  },
  {
   "cell_type": "code",
   "execution_count": 2,
   "id": "ed3fd8be-1d55-4437-86f7-1a3597d695d5",
   "metadata": {},
   "outputs": [
    {
     "name": "stdout",
     "output_type": "stream",
     "text": [
      "The Toyota Innova is starting.\n",
      "The Toyota Innova is accelerating.\n",
      "The Toyota Innova has stopped.\n"
     ]
    }
   ],
   "source": [
    "class Car:\n",
    "    def __init__(self, make, model, color):\n",
    "        self.make = make\n",
    "        self.model = model\n",
    "        self.color = color\n",
    "\n",
    "    def start(self):\n",
    "        # Start the engine\n",
    "        print(f\"The {self.make} {self.model} is starting.\")\n",
    "\n",
    "    def accelerate(self):\n",
    "        # Accelerate the car\n",
    "        print(f\"The {self.make} {self.model} is accelerating.\")\n",
    "\n",
    "    def stop(self):\n",
    "        # Stop the car\n",
    "        print(f\"The {self.make} {self.model} has stopped.\")\n",
    "\n",
    "\n",
    "my_car = Car(\"Toyota\", \"Innova\", \"Blue\")\n",
    "my_car.start()  \n",
    "my_car.accelerate()  \n",
    "my_car.stop()  \n"
   ]
  },
  {
   "cell_type": "markdown",
   "id": "e94cd644-95e8-478b-893a-8ecaf9905583",
   "metadata": {
    "tags": []
   },
   "source": [
    "# Q2. Differentiate between Abstraction and Encapsulation. Explain with an example.\n",
    "#### Abstraction:\n",
    "\n",
    "* Abstraction is about providing a simplified and generalized view of objects and their essential features.\n",
    "* It emphasizes hiding unnecessary details and exposing only the relevant and essential aspects of an object.\n",
    "* Abstraction focuses on what an object does rather than how it does it.\n",
    "* It helps in managing complexity, enhancing modularity, and providing a clear interface for interaction with objects.\n",
    "\n",
    "#### Encapsulation:\n",
    "\n",
    "* Encapsulation is about bundling related data (attributes) and behavior (methods) into a single unit, often known as a class.\n",
    "* It promotes the idea of data protection and access control by encapsulating the data and exposing it only through well-defined methods.\n",
    "* Encapsulation ensures that the internal state of an object is hidden from the outside, and access to the object's data is controlled through methods.\n",
    "* It helps in achieving data abstraction, data protection, and modular programming."
   ]
  },
  {
   "cell_type": "code",
   "execution_count": 3,
   "id": "e38f7067-da1e-43f6-bf58-be1d00a1cb8a",
   "metadata": {},
   "outputs": [
    {
     "name": "stdout",
     "output_type": "stream",
     "text": [
      "1300\n"
     ]
    }
   ],
   "source": [
    "class BankAccount:\n",
    "    def __init__(self, account_number, balance):\n",
    "        self.account_number = account_number\n",
    "        self.balance = balance\n",
    "\n",
    "    def deposit(self, amount):\n",
    "        # Encapsulated behavior\n",
    "        self.balance += amount\n",
    "\n",
    "    def withdraw(self, amount):\n",
    "        # Encapsulated behavior\n",
    "        if self.balance >= amount:\n",
    "            self.balance -= amount\n",
    "        else:\n",
    "            print(\"Insufficient balance.\")\n",
    "\n",
    "    def get_balance(self):\n",
    "        # Encapsulated behavior\n",
    "        return self.balance\n",
    "\n",
    "\n",
    "# Abstraction: User interacts with essential operations\n",
    "account = BankAccount(\"123456789\", 1000)\n",
    "account.deposit(500)\n",
    "account.withdraw(200)\n",
    "print(account.get_balance()) \n"
   ]
  },
  {
   "cell_type": "markdown",
   "id": "6a73fca0-aefd-40c8-a787-cbc6e9f3ec87",
   "metadata": {},
   "source": [
    "### Q3. What is abc module in python? Why is it used?\n",
    "\n",
    "#### Ans- the abc module stands for \"Abstract Base Classes.\" It provides a mechanism to define abstract classes and abstract methods. Abstract base classes serve as blueprints or templates for creating derived classes.\n",
    "\n",
    "#### The abc module is used to enforce certain structures or behaviors in derived classes, ensuring that they provide the required functionality. It helps in achieving a level of abstraction and consistency in object-oriented designs. "
   ]
  },
  {
   "cell_type": "markdown",
   "id": "17d21fcc-643d-4520-8071-7725619f6670",
   "metadata": {},
   "source": [
    "### Q4. How can we achieve data abstraction?\n",
    "\n",
    "#### Ans-  Data abstraction can be achieved through the use of classes and objects, along with the concepts of encapsulation and abstraction. Here are the key steps to achieve data abstraction:\n",
    "\n",
    "* Define a Class: Create a class that represents the abstract concept or entity you want to model. The class should encapsulate the relevant data and behaviors related to that entity.\n",
    "\n",
    "* Hide Implementation Details: Hide the internal implementation details of the class from the outside world. This can be done by marking attributes and methods as private or using naming conventions to indicate that they should be treated as internal.\n",
    "\n",
    "Provide a Public Interface: Expose a public interface for interacting with the class. This interface should define methods or properties that allow users to perform necessary operations on the data without needing to know the internal implementation details.\n",
    "\n",
    "Abstract the Data: Abstract the data by providing high-level methods or properties that represent the essential characteristics or functionality of the object. Users should be able to interact with these high-level abstractions without being concerned about the underlying complexities."
   ]
  }
 ],
 "metadata": {
  "kernelspec": {
   "display_name": "Python 3 (ipykernel)",
   "language": "python",
   "name": "python3"
  },
  "language_info": {
   "codemirror_mode": {
    "name": "ipython",
    "version": 3
   },
   "file_extension": ".py",
   "mimetype": "text/x-python",
   "name": "python",
   "nbconvert_exporter": "python",
   "pygments_lexer": "ipython3",
   "version": "3.10.6"
  }
 },
 "nbformat": 4,
 "nbformat_minor": 5
}
