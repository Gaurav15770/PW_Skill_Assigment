{
 "cells": [
  {
   "cell_type": "markdown",
   "id": "e0faacdd-0369-4a0d-89c8-b9524f78fdc1",
   "metadata": {},
   "source": [
    "### Q1. Which keyword is used to create a function? Create a function to return a list of odd numbers in the range of 1 to 25."
   ]
  },
  {
   "cell_type": "code",
   "execution_count": 12,
   "id": "bf9fa386-c62b-4aa0-b951-018e083eb3af",
   "metadata": {},
   "outputs": [
    {
     "name": "stdout",
     "output_type": "stream",
     "text": [
      "[1, 3, 5, 7, 9, 11, 13, 15, 17, 19, 21, 23, 25]\n"
     ]
    }
   ],
   "source": [
    "def odd_num(a,b):\n",
    "    list_=[]\n",
    "    for i in range(a,b):\n",
    "        if i%2!=0:\n",
    "            list_.append(i)\n",
    "    return list_\n",
    "        \n",
    "num=odd_num(1,26)\n",
    "print(num)"
   ]
  },
  {
   "cell_type": "markdown",
   "id": "9373fac9-47b5-44f8-8f34-01f6d269cf30",
   "metadata": {},
   "source": [
    "### Q2. Why *args and **kwargs is used in some functions? Create a function each for *args and **kwargs to demonstrate their use.\n",
    "\n",
    "#### Ans- *args is used to pass a variable number of non-keyworded arguments to a function. It allows you to pass any number of positional arguments, which are packed into a tuple.\n",
    "\n",
    " **kwargs is used to pass a variable number of keyword arguments (key-value pairs) to a function. It allows you to pass any number of keyword arguments, which are packed into a dictionary."
   ]
  },
  {
   "cell_type": "code",
   "execution_count": 14,
   "id": "2ffc9d51-1a7d-430e-afc6-ad02bea760bb",
   "metadata": {},
   "outputs": [
    {
     "name": "stdout",
     "output_type": "stream",
     "text": [
      "6\n",
      "15\n",
      "30\n",
      "name: John\n",
      "age: 25\n",
      "city: New York\n"
     ]
    }
   ],
   "source": [
    "# example of a function sum_numbers() that uses *args to calculate the sum of multiple numbers:\n",
    "\n",
    "def sum_numbers(*args):\n",
    "    result = 0\n",
    "    for num in args:\n",
    "        result += num\n",
    "    return result\n",
    "\n",
    "# Calling the function with different numbers of arguments\n",
    "print(sum_numbers(1, 2, 3))          \n",
    "print(sum_numbers(1, 2, 3, 4, 5))    \n",
    "print(sum_numbers(10, 20))          \n",
    "\n",
    "# example of a function print_info() that uses **kwargs to display the information of a person\n",
    "\n",
    "def print_info(**kwargs):\n",
    "    for key, value in kwargs.items():\n",
    "        print(key + \": \" + value)\n",
    "\n",
    "# Calling the function with different keyword arguments\n",
    "print_info(name=\"John\", age=\"25\", city=\"New York\")\n"
   ]
  },
  {
   "cell_type": "markdown",
   "id": "89eeee73-6465-4471-bda7-8ce8a6321087",
   "metadata": {},
   "source": [
    "### Q3. What is an iterator in python? Name the method used to initialise the iterator object and the method used for iteration. Use these methods to print the first five elements of the given list [2, 4, 6, 8, 10, 12,14,16, 18, 20].\n",
    "\n",
    "#### Ans- iter(): This method is used to initialize an iterator object from an iterable. It returns an iterator object that can be used for iteration. next(): This method is used to retrieve the next element from the iterator. It advances the iterator to the next item and returns the current item."
   ]
  },
  {
   "cell_type": "code",
   "execution_count": 18,
   "id": "9be16251-651f-4351-bd47-e9abc0799c52",
   "metadata": {},
   "outputs": [
    {
     "name": "stdout",
     "output_type": "stream",
     "text": [
      "2\n",
      "4\n",
      "6\n",
      "8\n",
      "10\n"
     ]
    }
   ],
   "source": [
    "my_list=[2,4,6,8,10,12,14,18,20]\n",
    "my_iterator=iter(my_list)\n",
    "\n",
    "for i in range(5):\n",
    "    element=next(my_iterator)\n",
    "    print(element)\n",
    "\n"
   ]
  },
  {
   "cell_type": "markdown",
   "id": "3a51b098-4c67-495e-8306-abe026c2da47",
   "metadata": {},
   "source": [
    "### Q4. What is a generator function in python? Why yield keyword is used? Give an example of a generator function.\n",
    "\n",
    "#### A generator function is a special type of function that returns an iterator (generator) when called. It allows you to define an iterative algorithm by writing a single function that can maintain its own internal state.\n",
    "\n",
    "#### The yield keyword is used in generator functions to indicate the points at which the function should \"yield\" a value and suspend its execution temporarily. When the function encounters a yield statement, it returns the yielded value and pauses its execution. The next time the generator is iterated, it resumes from where it left off, maintaining its internal state."
   ]
  },
  {
   "cell_type": "code",
   "execution_count": 21,
   "id": "ba611855-edea-40a9-bf68-198df0c8089b",
   "metadata": {},
   "outputs": [
    {
     "name": "stdout",
     "output_type": "stream",
     "text": [
      "0\n",
      "2\n",
      "4\n",
      "6\n",
      "8\n",
      "10\n"
     ]
    }
   ],
   "source": [
    "def even_numbers(limit):\n",
    "    num = 0\n",
    "    while num <= limit:\n",
    "        yield num\n",
    "        num += 2\n",
    "\n",
    "\n",
    "my_generator = even_numbers(10)\n",
    "\n",
    "\n",
    "for num in my_generator:\n",
    "    print(num)\n"
   ]
  },
  {
   "cell_type": "markdown",
   "id": "4fb7036a-9048-4482-bd86-b9ff5599271f",
   "metadata": {},
   "source": [
    "### Q5. Create a generator function for prime numbers less than 1000. Use the next() method to print the first 20 prime numbers."
   ]
  },
  {
   "cell_type": "code",
   "execution_count": 35,
   "id": "2e8120e5-6090-4fcb-8f84-f98d51163544",
   "metadata": {},
   "outputs": [
    {
     "name": "stdout",
     "output_type": "stream",
     "text": [
      "2\n",
      "3\n",
      "5\n",
      "7\n",
      "11\n",
      "13\n",
      "17\n",
      "19\n",
      "23\n",
      "29\n",
      "31\n",
      "37\n",
      "41\n",
      "43\n",
      "47\n",
      "53\n",
      "59\n",
      "61\n",
      "67\n",
      "71\n"
     ]
    }
   ],
   "source": [
    "def is_prime(num):\n",
    "    if num < 2:\n",
    "        return False\n",
    "    for i in range(2, int(num**0.5) + 1):\n",
    "        if num % i == 0:\n",
    "            return False\n",
    "    return True\n",
    "\n",
    "def prime_generator():\n",
    "    num = 2\n",
    "    while num < 1000:\n",
    "        if is_prime(num):\n",
    "            yield num\n",
    "        num += 1\n",
    "\n",
    "my_generator = prime_generator()\n",
    "\n",
    "\n",
    "for _ in range(20):\n",
    "    prime = next(my_generator)\n",
    "    print(prime)\n"
   ]
  },
  {
   "cell_type": "markdown",
   "id": "ca812c04-8188-47a6-b949-18cc2eecdd7f",
   "metadata": {},
   "source": [
    "### Q6. Write a python program to print the first 10 Fibonacci numbers using a while loop."
   ]
  },
  {
   "cell_type": "code",
   "execution_count": 36,
   "id": "bdff3c69-c50e-4af3-87a6-35755c142b54",
   "metadata": {},
   "outputs": [
    {
     "name": "stdout",
     "output_type": "stream",
     "text": [
      "0\n",
      "1\n",
      "1\n",
      "2\n",
      "3\n",
      "5\n",
      "8\n",
      "13\n",
      "21\n",
      "34\n"
     ]
    }
   ],
   "source": [
    "def fibonacci(n):\n",
    "    fib_list = [0, 1] \n",
    "\n",
    "    \n",
    "    while len(fib_list) < n:\n",
    "        next_fib = fib_list[-1] + fib_list[-2]\n",
    "        fib_list.append(next_fib)\n",
    "\n",
    "    return fib_list\n",
    "\n",
    "\n",
    "fib_numbers = fibonacci(10)\n",
    "for num in fib_numbers:\n",
    "    print(num)\n"
   ]
  },
  {
   "cell_type": "markdown",
   "id": "e783625d-ea11-405b-b75b-37b835dce5aa",
   "metadata": {},
   "source": [
    "### Q7. Write a List Comprehension to iterate through the given string: ‘pwskills’. Expected output: ['p', 'w', 's', 'k', 'i', 'l', 'l', 's']"
   ]
  },
  {
   "cell_type": "code",
   "execution_count": 41,
   "id": "386f53ae-575b-46e9-8c9f-695a65e221d5",
   "metadata": {},
   "outputs": [
    {
     "name": "stdout",
     "output_type": "stream",
     "text": [
      "['p', 'w', 's', 'k', 'i', 'l', 'l', 's']\n"
     ]
    }
   ],
   "source": [
    "string='pwskills'\n",
    "result=[char  for char in string]\n",
    "print(result)"
   ]
  },
  {
   "cell_type": "markdown",
   "id": "6f7545e3-9ce3-4ab1-a3bc-26cb6eb7530b",
   "metadata": {},
   "source": [
    "### Q8. Write a python program to check whether a given number is Palindrome or not using a while loop."
   ]
  },
  {
   "cell_type": "code",
   "execution_count": 42,
   "id": "5e743b9e-26c6-42a8-a77a-7f83fed9dc5a",
   "metadata": {},
   "outputs": [
    {
     "name": "stdin",
     "output_type": "stream",
     "text": [
      "Enter a number:  101\n"
     ]
    },
    {
     "name": "stdout",
     "output_type": "stream",
     "text": [
      "101 is a palindrome number.\n"
     ]
    }
   ],
   "source": [
    "def is_palindrome(number):\n",
    "    temp = number\n",
    "    reverse = 0\n",
    "\n",
    "    while temp > 0:\n",
    "        digit = temp % 10\n",
    "        reverse = (reverse * 10) + digit\n",
    "        temp //= 10\n",
    "\n",
    "    if number == reverse:\n",
    "        return True\n",
    "    else:\n",
    "        return False\n",
    "\n",
    "\n",
    "num = int(input(\"Enter a number: \"))\n",
    "\n",
    "if is_palindrome(num):\n",
    "    print(f\"{num} is a palindrome number.\")\n",
    "else:\n",
    "    print(f\"{num} is not a palindrome number.\")\n"
   ]
  },
  {
   "cell_type": "code",
   "execution_count": null,
   "id": "dbc6aafb-c096-416f-a4b1-f00a7ce707b0",
   "metadata": {},
   "outputs": [],
   "source": [
    "Q9. Write a code to print odd numbers from 1 to 100 using list comprehension."
   ]
  }
 ],
 "metadata": {
  "kernelspec": {
   "display_name": "Python 3 (ipykernel)",
   "language": "python",
   "name": "python3"
  },
  "language_info": {
   "codemirror_mode": {
    "name": "ipython",
    "version": 3
   },
   "file_extension": ".py",
   "mimetype": "text/x-python",
   "name": "python",
   "nbconvert_exporter": "python",
   "pygments_lexer": "ipython3",
   "version": "3.10.6"
  }
 },
 "nbformat": 4,
 "nbformat_minor": 5
}
